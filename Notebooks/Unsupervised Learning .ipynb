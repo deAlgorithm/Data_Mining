{
 "cells": [
  {
   "cell_type": "markdown",
   "id": "9d9c8556-aa9d-41ca-846b-9f8e7fb8b835",
   "metadata": {},
   "source": [
    "<h2>Unsupervised Learning</h2>"
   ]
  },
  {
   "cell_type": "code",
   "execution_count": null,
   "id": "2b7ba349-6264-45fa-a5d7-617cc4d22db4",
   "metadata": {},
   "outputs": [],
   "source": [
    "Agenda\n",
    "1. why do we need machine learning\n",
    "2. what is machine learning\n",
    "3. life cycle to build a model with ML\n",
    "4. what is unsupervised learning\n",
    "5. what is clustering\n",
    "6. types of clustering\n",
    "7. k-means clustering"
   ]
  }
 ],
 "metadata": {
  "kernelspec": {
   "display_name": "Python 3 (ipykernel)",
   "language": "python",
   "name": "python3"
  },
  "language_info": {
   "codemirror_mode": {
    "name": "ipython",
    "version": 3
   },
   "file_extension": ".py",
   "mimetype": "text/x-python",
   "name": "python",
   "nbconvert_exporter": "python",
   "pygments_lexer": "ipython3",
   "version": "3.9.19"
  }
 },
 "nbformat": 4,
 "nbformat_minor": 5
}
