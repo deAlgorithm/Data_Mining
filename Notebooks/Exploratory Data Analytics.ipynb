{
 "cells": [
  {
   "cell_type": "markdown",
   "id": "fa0ef5de-39df-4111-842a-f4692bf98955",
   "metadata": {},
   "source": [
    "<h1>Anomaly and Outlier Detection</h1>"
   ]
  },
  {
   "cell_type": "markdown",
   "id": "02a2e4c8-8f4f-4427-b0bd-afbb85fa4c14",
   "metadata": {},
   "source": [
    "<h3>OBJECTIVES</h3>\n",
    "<ul>\n",
    "    <li>What is Statistics ?</li>\n",
    "    <li>What is Population, Parameter and Sample ?</li>\n",
    "    <li>What is Mean, Median and Mode ?</li>\n",
    "    <li>What is Normal Distribution ?</li>\n",
    "    <li>Type of Analysis in Statistics </li>\n",
    "    <li>What is an Outlier ?</li>\n",
    "    <li>What is Interquartile Range IQR ?</li>\n",
    "    <li>What is Upper and Lower limits in interquartile range?</li>\n",
    "    <li><b>DEMO : How to handle Outlier in the dataset ?</b></li>\n",
    "</ul>"
   ]
  },
  {
   "cell_type": "markdown",
   "id": "d7419cc1-b599-48b0-a4e9-557e50e0deb5",
   "metadata": {},
   "source": [
    "<p><b>WHAT IS STATISTICS ?</b></p>\n",
    "<ol>\n",
    "    <li>a branch of mathematics dealing with the collection, analysis, interpretation, \n",
    "and presentation of masses of numerical data.</li>\n",
    "    <li>a collection of quantitative data.</li>\n",
    "</ol> \n",
    "\n",
    "<p><b>What is Population, Parameter and Sample ?</b></p>\n",
    "<ul>\n",
    "    <li>The terms population in statistics is used to refer to the total sets of observations.</li>\n",
    "    <li>Parameter are referred to as characteristics which describe the population.</li>\n",
    "    <li>Sample is basically a small part or portion of the large population.</li>\n",
    "</ul> \n",
    "\n",
    "<p><b>What is Mean, Median and Mode ?</b></p>\n",
    "<ul>\n",
    "    <li> Mean is referred to as the average value of the whole population</li>\n",
    "    <li> Median is the middle value of the data when your data is sorted in manner.</li>\n",
    "    <li>Mode stands for the most occuring element in the dataset</li>\n",
    "</ul> \n",
    "\n",
    "<p><b>What is Mean, Median and Mode ?</b></p>\n",
    "<ul>\n",
    "    <li> Mean is referred to as the average value of the whole population</li>\n",
    "    <li> Median is the middle value of the data when your data is sorted in manner.</li>\n",
    "    <li>Mode stands for the most occuring element in the dataset</li>\n",
    "</ul>\n",
    "\n",
    "\n",
    "<p><b>What is Normal Distribution ?</b></p>\n",
    "<p>Normal distribution, also known as the Gaussian distribution, is a probability distribution that appears as a \"bell curve\" when graphed. The normal distribution describes a symmetrical plot of data around its mean value, where the width of the curve is defined by the standard deviation.</p>\n",
    "\n",
    "\n",
    "<p><b>Types of analysis in Statistics ?</b></p>\n",
    "<ul>\n",
    "    <li><b>Descriptive Statistics : </b> refers to a set of methods used to summarize and describe the main features of a dataset, such as its central tendency, variability, and distribution. These methods provide an overview of the data and help identify patterns and relationships.\n",
    "    </li>\n",
    "    <li><b>Inferenial Statistics : </b>\n",
    "        involves the use of a sample (1) to estimate some characteristic in a large population; and (2) to test a research hypothesis about a given population. To appropriately estimate a population characteristic, or parameter, a random and unbiased sample must be drawn from the population of interest.\n",
    "    </li>\n",
    "</ul>\n",
    "\n",
    "\n",
    "<p><b>What is an outlier ?</b></p>\n",
    "<p>An outlier is an observation that lies an abnormal distance from other values in a random sample from a population. In a sense, this definition leaves it up to the analyst (or a consensus process) to decide what will be considered abnormal.</p>\n",
    "<ul>\n",
    "    <li>Outliers are basically experimental errors in the data</li>\n",
    "    <li>Some Outliers are good for the dataset to detect some anomaly like:<br>detecting fraud transaction</li>\n",
    "    <li>it affects the mean and the standard deviation of the data and most of the machine learning technques does not perform good with outliers.</li>\n",
    "</ul>\n",
    "\n",
    "<p><b>What is Interquartile Range IQR ?</b></p>\n",
    "<p>In descriptive statistics, the interquartile range tells you the spread of the middle half of your distribution. Quartiles segment any distribution that's ordered from low to high into four equal parts. The interquartile range (IQR) contains the second and third quartiles, or the middle half of your data set..</p>\n",
    "\n",
    "\n",
    "<p><b>What is Upper and Lower limits in interquartile range?</b></p>\n",
    "<p>The lower quartile, or first quartile (Q1), is the value under which 25% of data points are found when they are arranged in increasing order. The upper quartile, or third quartile (Q3), is the value under which 75% of data points are found when arranged in increasing order</p>\n"
   ]
  },
  {
   "cell_type": "markdown",
   "id": "def7466b-d51e-478b-94ef-9290cc5ca972",
   "metadata": {},
   "source": [
    "<h2><b>DEMO : How to handle Outlier in the dataset ?</h2></b>"
   ]
  }
 ],
 "metadata": {
  "kernelspec": {
   "display_name": "Python 3 (ipykernel)",
   "language": "python",
   "name": "python3"
  },
  "language_info": {
   "codemirror_mode": {
    "name": "ipython",
    "version": 3
   },
   "file_extension": ".py",
   "mimetype": "text/x-python",
   "name": "python",
   "nbconvert_exporter": "python",
   "pygments_lexer": "ipython3",
   "version": "3.9.19"
  }
 },
 "nbformat": 4,
 "nbformat_minor": 5
}
